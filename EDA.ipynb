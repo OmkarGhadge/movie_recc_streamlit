{
 "cells": [
  {
   "cell_type": "code",
   "execution_count": 9,
   "metadata": {},
   "outputs": [],
   "source": [
    "import pandas as pd\n",
    "import numpy as np\n",
    "import matplotlib.pyplot as plt\n",
    "import json\n",
    "\n",
    "data = pd.read_csv(r'C:\\Users\\omkar\\Desktop\\movie_recc\\data/tmdb_5000_movies.csv')\n",
    "cred = pd.read_csv(r'C:\\Users\\omkar\\Desktop\\movie_recc\\data/tmdb_5000_credits.csv')\n",
    "cred.columns = ['id','title','cast','crew']\n",
    "data = data.merge(cred,on='id')"
   ]
  },
  {
   "cell_type": "code",
   "execution_count": 10,
   "metadata": {},
   "outputs": [],
   "source": [
    "def gen_list(x):\n",
    "    j = json.loads(x)\n",
    "    a=[]\n",
    "    for i in range(len(j)):\n",
    "        if(i<3):\n",
    "            a.append(j[i]['name'])\n",
    "        else:\n",
    "            break\n",
    "    \n",
    "    return a"
   ]
  },
  {
   "cell_type": "code",
   "execution_count": 11,
   "metadata": {},
   "outputs": [],
   "source": [
    "data['genre'] = data['genres'].apply(gen_list)"
   ]
  },
  {
   "cell_type": "code",
   "execution_count": 49,
   "metadata": {},
   "outputs": [],
   "source": [
    "gen_list = data['genre']\n"
   ]
  },
  {
   "cell_type": "code",
   "execution_count": 50,
   "metadata": {},
   "outputs": [
    {
     "data": {
      "text/plain": [
       "0               [Action, Adventure, Fantasy]\n",
       "1               [Adventure, Fantasy, Action]\n",
       "2                 [Action, Adventure, Crime]\n",
       "3                     [Action, Crime, Drama]\n",
       "4       [Action, Adventure, Science Fiction]\n",
       "                        ...                 \n",
       "4798               [Action, Crime, Thriller]\n",
       "4799                       [Comedy, Romance]\n",
       "4800                [Comedy, Drama, Romance]\n",
       "4801                                      []\n",
       "4802                           [Documentary]\n",
       "Name: genre, Length: 4803, dtype: object"
      ]
     },
     "execution_count": 50,
     "metadata": {},
     "output_type": "execute_result"
    }
   ],
   "source": [
    "gen_list"
   ]
  },
  {
   "cell_type": "code",
   "execution_count": 51,
   "metadata": {},
   "outputs": [
    {
     "name": "stdout",
     "output_type": "stream",
     "text": [
      "ty\n"
     ]
    }
   ],
   "source": [
    "a={}\n",
    "a['action'] = 1\n",
    "if(a.get('action',False)):\n",
    "    print('ty')\n",
    "else:\n",
    "    print('dd')"
   ]
  },
  {
   "cell_type": "code",
   "execution_count": 53,
   "metadata": {},
   "outputs": [
    {
     "data": {
      "text/plain": [
       "<BarContainer object of 20 artists>"
      ]
     },
     "execution_count": 53,
     "metadata": {},
     "output_type": "execute_result"
    },
    {
     "data": {
      "image/png": "[encoded data removed]",
      "text/plain": [
       "<Figure size 1440x504 with 1 Axes>"
      ]
     },
     "metadata": {
      "needs_background": "light"
     },
     "output_type": "display_data"
    }
   ],
   "source": [
    "plt.figure(figsize=(20,7))\n",
    "geners_count = {}\n",
    "\n",
    "for generlist_movie in gen_list:\n",
    "    for gener in generlist_movie:\n",
    "        if(geners_count.get(gener,False)):\n",
    "            geners_count[gener]=geners_count[gener]+1\n",
    "        else:\n",
    "            geners_count[gener] = 1       \n",
    "\n",
    "plt.bar(geners_count.keys(),geners_count.values(),color='m')"
   ]
  },
  {
   "cell_type": "code",
   "execution_count": null,
   "metadata": {},
   "outputs": [],
   "source": []
  },
  {
   "cell_type": "code",
   "execution_count": null,
   "metadata": {},
   "outputs": [],
   "source": []
  }
 ],
 "metadata": {
  "kernelspec": {
   "display_name": "Python 3",
   "language": "python",
   "name": "python3"
  },
  "language_info": {
   "codemirror_mode": {
    "name": "ipython",
    "version": 3
   },
   "file_extension": ".py",
   "mimetype": "text/x-python",
   "name": "python",
   "nbconvert_exporter": "python",
   "pygments_lexer": "ipython3",
   "version": "3.8.5"
  }
 },
 "nbformat": 4,
 "nbformat_minor": 4
}
